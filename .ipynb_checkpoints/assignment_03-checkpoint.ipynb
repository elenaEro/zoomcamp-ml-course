{
 "cells": [
  {
   "cell_type": "code",
   "execution_count": 1,
   "id": "2fa8fbc5-6d25-4a02-80c9-6edf006b16a1",
   "metadata": {},
   "outputs": [
    {
     "name": "stdout",
     "output_type": "stream",
     "text": [
      "    lead_source    industry  number_of_courses_viewed  annual_income  \\\n",
      "0      paid_ads         NaN                         1        79450.0   \n",
      "1  social_media      retail                         1        46992.0   \n",
      "2        events  healthcare                         5        78796.0   \n",
      "3      paid_ads      retail                         2        83843.0   \n",
      "4      referral   education                         3        85012.0   \n",
      "\n",
      "  employment_status       location  interaction_count  lead_score  converted  \n",
      "0        unemployed  south_america                  4        0.94          1  \n",
      "1          employed  south_america                  1        0.80          0  \n",
      "2        unemployed      australia                  3        0.69          1  \n",
      "3               NaN      australia                  1        0.87          0  \n",
      "4     self_employed         europe                  3        0.62          1  \n"
     ]
    }
   ],
   "source": [
    "import pandas as pd\n",
    "import numpy as np\n",
    "df = pd.read_csv('https://raw.githubusercontent.com/alexeygrigorev/datasets/master/course_lead_scoring.csv')\n",
    "print(df.head())"
   ]
  },
  {
   "cell_type": "code",
   "execution_count": 2,
   "id": "6c70a89c-af49-40e9-8afe-8aff0e8e2b78",
   "metadata": {},
   "outputs": [
    {
     "data": {
      "text/plain": [
       "0    retail\n",
       "Name: industry, dtype: object"
      ]
     },
     "execution_count": 2,
     "metadata": {},
     "output_type": "execute_result"
    }
   ],
   "source": [
    "df['industry'].mode([0])"
   ]
  },
  {
   "cell_type": "code",
   "execution_count": 3,
   "id": "ae505656-6e23-4614-a200-bfb66addb565",
   "metadata": {},
   "outputs": [
    {
     "data": {
      "text/plain": [
       "lead_source                 128\n",
       "industry                    134\n",
       "number_of_courses_viewed      0\n",
       "annual_income               181\n",
       "employment_status           100\n",
       "location                     63\n",
       "interaction_count             0\n",
       "lead_score                    0\n",
       "converted                     0\n",
       "dtype: int64"
      ]
     },
     "execution_count": 3,
     "metadata": {},
     "output_type": "execute_result"
    }
   ],
   "source": [
    "#data preparation\n",
    "df.isnull().sum()"
   ]
  },
  {
   "cell_type": "code",
   "execution_count": 4,
   "id": "709bd7d9-1dd8-43cd-94f3-2cb8f78cbcb1",
   "metadata": {},
   "outputs": [
    {
     "data": {
      "text/plain": [
       "lead_source                  object\n",
       "industry                     object\n",
       "number_of_courses_viewed      int64\n",
       "annual_income               float64\n",
       "employment_status            object\n",
       "location                     object\n",
       "interaction_count             int64\n",
       "lead_score                  float64\n",
       "converted                     int64\n",
       "dtype: object"
      ]
     },
     "execution_count": 4,
     "metadata": {},
     "output_type": "execute_result"
    }
   ],
   "source": [
    "df.dtypes"
   ]
  },
  {
   "cell_type": "raw",
   "id": "bde33f2f-c395-4da1-ab1a-b64d9be3e40d",
   "metadata": {},
   "source": [
    "print(df.['lead_score'].unique())"
   ]
  },
  {
   "cell_type": "code",
   "execution_count": 5,
   "id": "99994e74-e1e7-4d32-a32b-123f37cd7054",
   "metadata": {},
   "outputs": [
    {
     "name": "stdout",
     "output_type": "stream",
     "text": [
      "lead_source                 0\n",
      "industry                    0\n",
      "number_of_courses_viewed    0\n",
      "annual_income               0\n",
      "employment_status           0\n",
      "location                    0\n",
      "interaction_count           0\n",
      "lead_score                  0\n",
      "converted                   0\n",
      "dtype: int64\n"
     ]
    }
   ],
   "source": [
    "df.lead_source = df.lead_source.fillna('NA')\n",
    "df.industry = df.industry.fillna('NA')\n",
    "df.annual_income = df.annual_income.fillna(0)\n",
    "df.employment_status = df.employment_status.fillna('NA')\n",
    "df.location = df.location.fillna('NA')\n",
    "print(df.isnull().sum())"
   ]
  },
  {
   "cell_type": "code",
   "execution_count": 6,
   "id": "ccf594fa-9671-4d3f-9297-5902c2194274",
   "metadata": {},
   "outputs": [
    {
     "data": {
      "text/plain": [
       "0    retail\n",
       "Name: industry, dtype: object"
      ]
     },
     "execution_count": 6,
     "metadata": {},
     "output_type": "execute_result"
    }
   ],
   "source": [
    "df['industry'].mode([0])\n"
   ]
  },
  {
   "cell_type": "code",
   "execution_count": 10,
   "id": "ef43fd70-35dc-4798-9a30-f84d11e6e225",
   "metadata": {},
   "outputs": [
    {
     "name": "stdout",
     "output_type": "stream",
     "text": [
      "0.0098881824969131\n",
      "-0.004878998354681263\n",
      "-0.023565222882888103\n",
      "0.027036472404814327\n"
     ]
    }
   ],
   "source": [
    "correlation = df['interaction_count'].corr(df['lead_score'])\n",
    "print(correlation)\n",
    "correlation1 = df['number_of_courses_viewed'].corr(df['lead_score'])\n",
    "print(correlation1)\n",
    "correlation2 = df['number_of_courses_viewed'].corr(df['interaction_count'])\n",
    "print(correlation2)\n",
    "correlation3 = df['annual_income'].corr(df['interaction_count'])\n",
    "print(correlation3)"
   ]
  },
  {
   "cell_type": "code",
   "execution_count": 17,
   "id": "473973ee-d42e-44c8-bbf4-98d03e4b8779",
   "metadata": {},
   "outputs": [
    {
     "data": {
      "text/plain": [
       "(876, 293, 293)"
      ]
     },
     "execution_count": 17,
     "metadata": {},
     "output_type": "execute_result"
    }
   ],
   "source": [
    "#Q3 splitting the data\n",
    "from sklearn.model_selection import train_test_split\n",
    "df_full_train, df_test = train_test_split(df, test_size=0.2, random_state=42)\n",
    "len(df_full_train), len(df_test)\n",
    "df_train, df_val = train_test_split(df_full_train, test_size=0.25, random_state=42)\n",
    "len(df_train), len(df_val), len(df_test)\n"
   ]
  },
  {
   "cell_type": "code",
   "execution_count": 18,
   "id": "2643abe0-01fe-475a-81ed-bef24ead4653",
   "metadata": {},
   "outputs": [
    {
     "name": "stdout",
     "output_type": "stream",
     "text": [
      "      lead_source       industry  number_of_courses_viewed  annual_income  \\\n",
      "0        paid_ads         retail                         0        58472.0   \n",
      "1  organic_search  manufacturing                         3        71738.0   \n",
      "2        paid_ads     technology                         3        81973.0   \n",
      "3              NA     technology                         1        74956.0   \n",
      "4  organic_search         retail                         3        59335.0   \n",
      "\n",
      "  employment_status       location  interaction_count  lead_score  converted  \n",
      "0           student    middle_east                  5        0.03          0  \n",
      "1           student    middle_east                  6        0.77          1  \n",
      "2          employed  north_america                  2        0.59          1  \n",
      "3          employed         europe                  3        0.34          1  \n",
      "4           student      australia                  1        0.98          1  \n"
     ]
    }
   ],
   "source": [
    "#drop indexes\n",
    "df_train = df_train.reset_index(drop=True)\n",
    "df_val = df_val.reset_index(drop=True)\n",
    "df_test = df_test.reset_index(drop=True)\n",
    "\n",
    "print(df_train.head())"
   ]
  },
  {
   "cell_type": "code",
   "execution_count": 20,
   "id": "a00ea802-a825-4f0b-8c98-1951023fd212",
   "metadata": {},
   "outputs": [
    {
     "name": "stdout",
     "output_type": "stream",
     "text": [
      "        lead_source       industry  number_of_courses_viewed  annual_income  \\\n",
      "0          paid_ads         retail                         0        58472.0   \n",
      "1    organic_search  manufacturing                         3        71738.0   \n",
      "2          paid_ads     technology                         3        81973.0   \n",
      "3                NA     technology                         1        74956.0   \n",
      "4    organic_search         retail                         3        59335.0   \n",
      "..              ...            ...                       ...            ...   \n",
      "871  organic_search          other                         1        43907.0   \n",
      "872    social_media         retail                         3        64969.0   \n",
      "873              NA      education                         3        89042.0   \n",
      "874    social_media  manufacturing                         1            0.0   \n",
      "875          events        finance                         4        50259.0   \n",
      "\n",
      "    employment_status       location  interaction_count  lead_score  \n",
      "0             student    middle_east                  5        0.03  \n",
      "1             student    middle_east                  6        0.77  \n",
      "2            employed  north_america                  2        0.59  \n",
      "3            employed         europe                  3        0.34  \n",
      "4             student      australia                  1        0.98  \n",
      "..                ...            ...                ...         ...  \n",
      "871          employed      australia                  4        0.33  \n",
      "872          employed  north_america                  1        0.18  \n",
      "873          employed           asia                  4        0.75  \n",
      "874     self_employed         europe                  1        0.65  \n",
      "875           student           asia                  3        0.54  \n",
      "\n",
      "[876 rows x 8 columns] [0 1 1 1 1 1 0 1 0 0 1 1 1 1 0 1 1 1 0 0 0 1 1 0 0 1 1 0 1 1 0 1 0 1 1 0 1\n",
      " 1 0 1 1 1 0 0 1 1 1 1 0 1 0 1 0 1 1 1 1 0 1 0 0 1 0 1 0 1 0 0 1 1 1 0 1 1\n",
      " 1 1 1 1 0 0 0 1 1 0 0 1 1 1 0 0 0 1 0 1 0 0 0 1 1 0 0 0 1 1 1 0 1 0 1 0 0\n",
      " 1 0 1 1 1 1 1 0 0 1 0 1 1 1 0 1 0 0 0 1 0 0 0 1 1 0 1 1 1 1 1 1 1 1 1 1 1\n",
      " 1 0 0 1 1 1 1 1 0 1 1 1 0 0 0 0 1 1 1 1 0 1 1 1 0 1 1 0 1 0 1 1 1 1 1 1 0\n",
      " 1 1 1 1 1 1 1 1 1 0 0 1 0 1 1 0 1 1 0 1 0 0 1 1 1 1 1 0 1 1 1 0 1 0 1 0 1\n",
      " 1 1 0 1 0 1 0 0 1 1 0 0 1 1 1 1 0 1 0 1 0 1 0 0 1 1 0 0 1 1 0 0 1 1 1 0 1\n",
      " 0 1 0 0 1 0 1 0 1 1 0 1 1 1 1 0 0 0 1 1 0 0 0 1 0 0 0 1 1 1 0 1 0 1 1 1 1\n",
      " 0 1 1 0 1 1 1 1 1 1 0 1 0 1 1 1 1 1 0 1 0 1 0 1 1 1 1 1 1 1 1 0 1 1 0 1 0\n",
      " 0 1 1 1 1 1 0 0 0 0 1 0 1 1 1 1 1 1 1 1 1 0 0 1 1 0 1 0 0 0 1 0 1 0 1 1 0\n",
      " 1 0 0 0 1 0 1 1 1 0 0 1 1 1 0 0 1 1 1 0 1 1 0 0 0 1 1 0 0 0 1 1 0 0 1 0 1\n",
      " 1 1 0 0 1 1 1 0 1 1 1 0 1 0 1 0 1 1 1 1 0 1 0 0 1 0 1 1 1 1 1 1 1 0 1 1 0\n",
      " 1 1 1 1 1 1 1 1 1 1 1 1 1 1 1 0 1 0 0 0 0 0 1 1 0 1 1 1 1 1 1 1 1 0 0 0 1\n",
      " 0 0 1 1 1 1 1 1 0 1 1 1 0 1 1 0 0 0 1 1 1 0 1 0 0 1 1 1 1 0 1 1 0 0 0 0 0\n",
      " 1 1 1 1 1 0 0 0 1 1 1 0 1 1 1 1 1 0 1 1 0 1 1 1 1 1 0 1 1 1 1 0 1 1 1 1 0\n",
      " 1 0 1 1 1 0 1 1 1 1 1 0 1 1 0 0 0 0 0 0 1 0 1 1 1 1 1 1 0 0 1 1 0 0 0 0 1\n",
      " 1 1 0 1 0 1 1 1 0 1 0 0 1 0 0 0 0 1 0 1 0 1 0 1 0 1 1 0 0 0 0 1 1 1 1 1 0\n",
      " 1 1 1 0 0 1 0 0 1 0 1 1 1 1 0 1 0 1 1 1 1 1 0 1 1 0 1 1 1 0 0 1 0 1 1 1 1\n",
      " 0 1 1 1 1 0 1 0 0 1 0 1 1 1 0 0 0 1 1 1 1 0 0 0 1 0 0 1 1 1 0 1 0 1 1 1 0\n",
      " 0 0 1 1 1 1 1 0 0 1 0 1 1 1 1 1 0 1 1 0 1 1 1 1 1 1 1 0 1 1 1 1 1 1 1 0 0\n",
      " 0 0 0 0 1 0 0 1 1 1 0 0 0 1 1 1 1 1 1 1 1 0 0 1 0 1 1 1 0 1 1 1 1 1 1 1 1\n",
      " 1 1 0 0 1 0 0 0 1 0 0 0 1 0 0 0 1 0 1 1 0 1 1 0 1 0 0 1 1 1 1 1 1 1 1 0 1\n",
      " 1 1 1 1 1 0 1 0 0 0 1 1 0 0 0 1 0 0 0 1 1 1 0 1 1 0 1 1 1 1 0 1 0 1 1 1 0\n",
      " 0 1 1 0 1 1 0 1 1 1 1 1 0 0 1 1 1 1 1 1 1 0 1 0 1]\n"
     ]
    }
   ],
   "source": [
    "# preparing y\n",
    "y_train = df_train.converted.values\n",
    "y_val = df_val.converted.values\n",
    "y_test = df_test.converted.values\n",
    "del df_train['converted']\n",
    "del df_val['converted']\n",
    "del df_test['converted']\n",
    "\n",
    "print(df_train, y_train)"
   ]
  },
  {
   "cell_type": "code",
   "execution_count": null,
   "id": "0d85465f-1421-43f5-851e-bf39d2beec94",
   "metadata": {},
   "outputs": [],
   "source": []
  }
 ],
 "metadata": {
  "kernelspec": {
   "display_name": "Python (zoomcamp)",
   "language": "python",
   "name": "zoomcamp"
  },
  "language_info": {
   "codemirror_mode": {
    "name": "ipython",
    "version": 3
   },
   "file_extension": ".py",
   "mimetype": "text/x-python",
   "name": "python",
   "nbconvert_exporter": "python",
   "pygments_lexer": "ipython3",
   "version": "3.12.1"
  }
 },
 "nbformat": 4,
 "nbformat_minor": 5
}
