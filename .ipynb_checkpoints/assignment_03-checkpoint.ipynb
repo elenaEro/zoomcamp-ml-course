{
 "cells": [
  {
   "cell_type": "code",
   "execution_count": 1,
   "id": "2fa8fbc5-6d25-4a02-80c9-6edf006b16a1",
   "metadata": {},
   "outputs": [
    {
     "name": "stdout",
     "output_type": "stream",
     "text": [
      "    lead_source    industry  number_of_courses_viewed  annual_income  \\\n",
      "0      paid_ads         NaN                         1        79450.0   \n",
      "1  social_media      retail                         1        46992.0   \n",
      "2        events  healthcare                         5        78796.0   \n",
      "3      paid_ads      retail                         2        83843.0   \n",
      "4      referral   education                         3        85012.0   \n",
      "\n",
      "  employment_status       location  interaction_count  lead_score  converted  \n",
      "0        unemployed  south_america                  4        0.94          1  \n",
      "1          employed  south_america                  1        0.80          0  \n",
      "2        unemployed      australia                  3        0.69          1  \n",
      "3               NaN      australia                  1        0.87          0  \n",
      "4     self_employed         europe                  3        0.62          1  \n"
     ]
    }
   ],
   "source": [
    "import pandas as pd\n",
    "import numpy as np\n",
    "df = pd.read_csv('https://raw.githubusercontent.com/alexeygrigorev/datasets/master/course_lead_scoring.csv')\n",
    "print(df.head())"
   ]
  },
  {
   "cell_type": "code",
   "execution_count": 2,
   "id": "6c70a89c-af49-40e9-8afe-8aff0e8e2b78",
   "metadata": {},
   "outputs": [
    {
     "data": {
      "text/plain": [
       "0    retail\n",
       "Name: industry, dtype: object"
      ]
     },
     "execution_count": 2,
     "metadata": {},
     "output_type": "execute_result"
    }
   ],
   "source": [
    "df['industry'].mode([0])"
   ]
  },
  {
   "cell_type": "code",
   "execution_count": 3,
   "id": "ae505656-6e23-4614-a200-bfb66addb565",
   "metadata": {},
   "outputs": [
    {
     "data": {
      "text/plain": [
       "lead_source                 128\n",
       "industry                    134\n",
       "number_of_courses_viewed      0\n",
       "annual_income               181\n",
       "employment_status           100\n",
       "location                     63\n",
       "interaction_count             0\n",
       "lead_score                    0\n",
       "converted                     0\n",
       "dtype: int64"
      ]
     },
     "execution_count": 3,
     "metadata": {},
     "output_type": "execute_result"
    }
   ],
   "source": [
    "#data preparation\n",
    "df.isnull().sum()"
   ]
  },
  {
   "cell_type": "code",
   "execution_count": 4,
   "id": "709bd7d9-1dd8-43cd-94f3-2cb8f78cbcb1",
   "metadata": {},
   "outputs": [
    {
     "data": {
      "text/plain": [
       "lead_source                  object\n",
       "industry                     object\n",
       "number_of_courses_viewed      int64\n",
       "annual_income               float64\n",
       "employment_status            object\n",
       "location                     object\n",
       "interaction_count             int64\n",
       "lead_score                  float64\n",
       "converted                     int64\n",
       "dtype: object"
      ]
     },
     "execution_count": 4,
     "metadata": {},
     "output_type": "execute_result"
    }
   ],
   "source": [
    "df.dtypes"
   ]
  },
  {
   "cell_type": "raw",
   "id": "bde33f2f-c395-4da1-ab1a-b64d9be3e40d",
   "metadata": {},
   "source": [
    "print(df.['lead_score'].unique())"
   ]
  },
  {
   "cell_type": "code",
   "execution_count": 5,
   "id": "99994e74-e1e7-4d32-a32b-123f37cd7054",
   "metadata": {},
   "outputs": [
    {
     "name": "stdout",
     "output_type": "stream",
     "text": [
      "lead_source                 0\n",
      "industry                    0\n",
      "number_of_courses_viewed    0\n",
      "annual_income               0\n",
      "employment_status           0\n",
      "location                    0\n",
      "interaction_count           0\n",
      "lead_score                  0\n",
      "converted                   0\n",
      "dtype: int64\n"
     ]
    }
   ],
   "source": [
    "df.lead_source = df.lead_source.fillna('NA')\n",
    "df.industry = df.industry.fillna('NA')\n",
    "df.annual_income = df.annual_income.fillna(0)\n",
    "df.employment_status = df.employment_status.fillna('NA')\n",
    "df.location = df.location.fillna('NA')\n",
    "print(df.isnull().sum())"
   ]
  },
  {
   "cell_type": "code",
   "execution_count": 6,
   "id": "ccf594fa-9671-4d3f-9297-5902c2194274",
   "metadata": {},
   "outputs": [
    {
     "data": {
      "text/plain": [
       "0    retail\n",
       "Name: industry, dtype: object"
      ]
     },
     "execution_count": 6,
     "metadata": {},
     "output_type": "execute_result"
    }
   ],
   "source": [
    "df['industry'].mode([0])\n"
   ]
  },
  {
   "cell_type": "code",
   "execution_count": 31,
   "id": "ef43fd70-35dc-4798-9a30-f84d11e6e225",
   "metadata": {},
   "outputs": [
    {
     "name": "stdout",
     "output_type": "stream",
     "text": [
      "number_of_courses_viewed    0.435914\n",
      "annual_income               0.053131\n",
      "interaction_count           0.374573\n",
      "lead_score                  0.193673\n",
      "dtype: float64\n"
     ]
    }
   ],
   "source": [
    "#Q2 Correlations\n",
    "numerical = ['number_of_courses_viewed', 'annual_income', 'interaction_count', 'lead_score']\n",
    "corr = df[numerical].corrwith(df['converted'])\n",
    "print(corr)"
   ]
  },
  {
   "cell_type": "code",
   "execution_count": 8,
   "id": "473973ee-d42e-44c8-bbf4-98d03e4b8779",
   "metadata": {},
   "outputs": [
    {
     "data": {
      "text/plain": [
       "(876, 293, 293)"
      ]
     },
     "execution_count": 8,
     "metadata": {},
     "output_type": "execute_result"
    }
   ],
   "source": [
    "#Q3 splitting the data\n",
    "from sklearn.model_selection import train_test_split\n",
    "df_full_train, df_test = train_test_split(df, test_size=0.2, random_state=42)\n",
    "len(df_full_train), len(df_test)\n",
    "df_train, df_val = train_test_split(df_full_train, test_size=0.25, random_state=42)\n",
    "len(df_train), len(df_val), len(df_test)\n"
   ]
  },
  {
   "cell_type": "code",
   "execution_count": 9,
   "id": "2643abe0-01fe-475a-81ed-bef24ead4653",
   "metadata": {},
   "outputs": [
    {
     "name": "stdout",
     "output_type": "stream",
     "text": [
      "      lead_source       industry  number_of_courses_viewed  annual_income  \\\n",
      "0        paid_ads         retail                         0        58472.0   \n",
      "1  organic_search  manufacturing                         3        71738.0   \n",
      "2        paid_ads     technology                         3        81973.0   \n",
      "3              NA     technology                         1        74956.0   \n",
      "4  organic_search         retail                         3        59335.0   \n",
      "\n",
      "  employment_status       location  interaction_count  lead_score  converted  \n",
      "0           student    middle_east                  5        0.03          0  \n",
      "1           student    middle_east                  6        0.77          1  \n",
      "2          employed  north_america                  2        0.59          1  \n",
      "3          employed         europe                  3        0.34          1  \n",
      "4           student      australia                  1        0.98          1  \n"
     ]
    }
   ],
   "source": [
    "#drop indexes\n",
    "df_train = df_train.reset_index(drop=True)\n",
    "df_val = df_val.reset_index(drop=True)\n",
    "df_test = df_test.reset_index(drop=True)\n",
    "\n",
    "print(df_train.head())"
   ]
  },
  {
   "cell_type": "code",
   "execution_count": 10,
   "id": "a00ea802-a825-4f0b-8c98-1951023fd212",
   "metadata": {},
   "outputs": [
    {
     "name": "stdout",
     "output_type": "stream",
     "text": [
      "        lead_source       industry  number_of_courses_viewed  annual_income  \\\n",
      "0          paid_ads         retail                         0        58472.0   \n",
      "1    organic_search  manufacturing                         3        71738.0   \n",
      "2          paid_ads     technology                         3        81973.0   \n",
      "3                NA     technology                         1        74956.0   \n",
      "4    organic_search         retail                         3        59335.0   \n",
      "..              ...            ...                       ...            ...   \n",
      "871  organic_search          other                         1        43907.0   \n",
      "872    social_media         retail                         3        64969.0   \n",
      "873              NA      education                         3        89042.0   \n",
      "874    social_media  manufacturing                         1            0.0   \n",
      "875          events        finance                         4        50259.0   \n",
      "\n",
      "    employment_status       location  interaction_count  lead_score  \n",
      "0             student    middle_east                  5        0.03  \n",
      "1             student    middle_east                  6        0.77  \n",
      "2            employed  north_america                  2        0.59  \n",
      "3            employed         europe                  3        0.34  \n",
      "4             student      australia                  1        0.98  \n",
      "..                ...            ...                ...         ...  \n",
      "871          employed      australia                  4        0.33  \n",
      "872          employed  north_america                  1        0.18  \n",
      "873          employed           asia                  4        0.75  \n",
      "874     self_employed         europe                  1        0.65  \n",
      "875           student           asia                  3        0.54  \n",
      "\n",
      "[876 rows x 8 columns] [0 1 1 1 1 1 0 1 0 0 1 1 1 1 0 1 1 1 0 0 0 1 1 0 0 1 1 0 1 1 0 1 0 1 1 0 1\n",
      " 1 0 1 1 1 0 0 1 1 1 1 0 1 0 1 0 1 1 1 1 0 1 0 0 1 0 1 0 1 0 0 1 1 1 0 1 1\n",
      " 1 1 1 1 0 0 0 1 1 0 0 1 1 1 0 0 0 1 0 1 0 0 0 1 1 0 0 0 1 1 1 0 1 0 1 0 0\n",
      " 1 0 1 1 1 1 1 0 0 1 0 1 1 1 0 1 0 0 0 1 0 0 0 1 1 0 1 1 1 1 1 1 1 1 1 1 1\n",
      " 1 0 0 1 1 1 1 1 0 1 1 1 0 0 0 0 1 1 1 1 0 1 1 1 0 1 1 0 1 0 1 1 1 1 1 1 0\n",
      " 1 1 1 1 1 1 1 1 1 0 0 1 0 1 1 0 1 1 0 1 0 0 1 1 1 1 1 0 1 1 1 0 1 0 1 0 1\n",
      " 1 1 0 1 0 1 0 0 1 1 0 0 1 1 1 1 0 1 0 1 0 1 0 0 1 1 0 0 1 1 0 0 1 1 1 0 1\n",
      " 0 1 0 0 1 0 1 0 1 1 0 1 1 1 1 0 0 0 1 1 0 0 0 1 0 0 0 1 1 1 0 1 0 1 1 1 1\n",
      " 0 1 1 0 1 1 1 1 1 1 0 1 0 1 1 1 1 1 0 1 0 1 0 1 1 1 1 1 1 1 1 0 1 1 0 1 0\n",
      " 0 1 1 1 1 1 0 0 0 0 1 0 1 1 1 1 1 1 1 1 1 0 0 1 1 0 1 0 0 0 1 0 1 0 1 1 0\n",
      " 1 0 0 0 1 0 1 1 1 0 0 1 1 1 0 0 1 1 1 0 1 1 0 0 0 1 1 0 0 0 1 1 0 0 1 0 1\n",
      " 1 1 0 0 1 1 1 0 1 1 1 0 1 0 1 0 1 1 1 1 0 1 0 0 1 0 1 1 1 1 1 1 1 0 1 1 0\n",
      " 1 1 1 1 1 1 1 1 1 1 1 1 1 1 1 0 1 0 0 0 0 0 1 1 0 1 1 1 1 1 1 1 1 0 0 0 1\n",
      " 0 0 1 1 1 1 1 1 0 1 1 1 0 1 1 0 0 0 1 1 1 0 1 0 0 1 1 1 1 0 1 1 0 0 0 0 0\n",
      " 1 1 1 1 1 0 0 0 1 1 1 0 1 1 1 1 1 0 1 1 0 1 1 1 1 1 0 1 1 1 1 0 1 1 1 1 0\n",
      " 1 0 1 1 1 0 1 1 1 1 1 0 1 1 0 0 0 0 0 0 1 0 1 1 1 1 1 1 0 0 1 1 0 0 0 0 1\n",
      " 1 1 0 1 0 1 1 1 0 1 0 0 1 0 0 0 0 1 0 1 0 1 0 1 0 1 1 0 0 0 0 1 1 1 1 1 0\n",
      " 1 1 1 0 0 1 0 0 1 0 1 1 1 1 0 1 0 1 1 1 1 1 0 1 1 0 1 1 1 0 0 1 0 1 1 1 1\n",
      " 0 1 1 1 1 0 1 0 0 1 0 1 1 1 0 0 0 1 1 1 1 0 0 0 1 0 0 1 1 1 0 1 0 1 1 1 0\n",
      " 0 0 1 1 1 1 1 0 0 1 0 1 1 1 1 1 0 1 1 0 1 1 1 1 1 1 1 0 1 1 1 1 1 1 1 0 0\n",
      " 0 0 0 0 1 0 0 1 1 1 0 0 0 1 1 1 1 1 1 1 1 0 0 1 0 1 1 1 0 1 1 1 1 1 1 1 1\n",
      " 1 1 0 0 1 0 0 0 1 0 0 0 1 0 0 0 1 0 1 1 0 1 1 0 1 0 0 1 1 1 1 1 1 1 1 0 1\n",
      " 1 1 1 1 1 0 1 0 0 0 1 1 0 0 0 1 0 0 0 1 1 1 0 1 1 0 1 1 1 1 0 1 0 1 1 1 0\n",
      " 0 1 1 0 1 1 0 1 1 1 1 1 0 0 1 1 1 1 1 1 1 0 1 0 1]\n"
     ]
    }
   ],
   "source": [
    "# preparing y\n",
    "y_train = df_train.converted.values\n",
    "y_val = df_val.converted.values\n",
    "y_test = df_test.converted.values\n",
    "del df_train['converted']\n",
    "del df_val['converted']\n",
    "del df_test['converted']\n",
    "\n",
    "print(df_train, y_train)"
   ]
  },
  {
   "cell_type": "code",
   "execution_count": 11,
   "id": "0d85465f-1421-43f5-851e-bf39d2beec94",
   "metadata": {},
   "outputs": [
    {
     "data": {
      "text/plain": [
       "0.011574521435657112"
      ]
     },
     "execution_count": 11,
     "metadata": {},
     "output_type": "execute_result"
    }
   ],
   "source": [
    "#q3 mutual information score\n",
    "from sklearn.metrics import mutual_info_score\n",
    "mutual_info_score(y_train, df_train.industry)"
   ]
  },
  {
   "cell_type": "code",
   "execution_count": 12,
   "id": "888269f1-5d51-4a4c-a3c4-f1dfcbb4f36b",
   "metadata": {},
   "outputs": [
    {
     "data": {
      "text/plain": [
       "0.004464157884038034"
      ]
     },
     "execution_count": 12,
     "metadata": {},
     "output_type": "execute_result"
    }
   ],
   "source": [
    "mutual_info_score(y_train, df_train.location)"
   ]
  },
  {
   "cell_type": "code",
   "execution_count": 13,
   "id": "24cbb892-eb95-4ca5-9321-3f04e210fc11",
   "metadata": {},
   "outputs": [
    {
     "data": {
      "text/plain": [
       "0.03539624379726594"
      ]
     },
     "execution_count": 13,
     "metadata": {},
     "output_type": "execute_result"
    }
   ],
   "source": [
    "mutual_info_score(y_train, df_train.lead_source)"
   ]
  },
  {
   "cell_type": "code",
   "execution_count": 14,
   "id": "68752085-31f9-4b3b-bd7b-8f221f2b68aa",
   "metadata": {},
   "outputs": [
    {
     "data": {
      "text/plain": [
       "0.012937677269442782"
      ]
     },
     "execution_count": 14,
     "metadata": {},
     "output_type": "execute_result"
    }
   ],
   "source": [
    "mutual_info_score(y_train, df_train.employment_status)"
   ]
  },
  {
   "cell_type": "code",
   "execution_count": 15,
   "id": "522bdc16-daee-4e15-aa28-586dfcec5562",
   "metadata": {},
   "outputs": [
    {
     "data": {
      "text/plain": [
       "{'lead_source': 'paid_ads',\n",
       " 'industry': 'retail',\n",
       " 'employment_status': 'student',\n",
       " 'location': 'middle_east',\n",
       " 'number_of_courses_viewed': 0,\n",
       " 'annual_income': 58472.0,\n",
       " 'interaction_count': 5,\n",
       " 'lead_score': 0.03}"
      ]
     },
     "execution_count": 15,
     "metadata": {},
     "output_type": "execute_result"
    }
   ],
   "source": [
    "#One-hot encoding of variables\n",
    "numerical = ['number_of_courses_viewed', 'annual_income', 'interaction_count', 'lead_score']\n",
    "categorical = ['lead_source', 'industry', 'employment_status', 'location']\n",
    "from sklearn.feature_extraction import DictVectorizer\n",
    "train_dict = df_train[categorical + numerical].to_dict(orient='records')\n",
    "train_dict[0]"
   ]
  },
  {
   "cell_type": "code",
   "execution_count": 16,
   "id": "57146937-6d97-46cf-96a7-1bb629791405",
   "metadata": {},
   "outputs": [],
   "source": [
    "dv = DictVectorizer(sparse=False)\n",
    "dv.fit(train_dict)\n",
    "# DictVectorizer(sparse=False)\n",
    "# dv.get_feature_names_out()\n",
    "X_train = dv.transform(train_dict)"
   ]
  },
  {
   "cell_type": "code",
   "execution_count": 17,
   "id": "07aba775-42ee-4d9a-8ed8-cf73f1d1444b",
   "metadata": {},
   "outputs": [
    {
     "data": {
      "text/plain": [
       "array([[-1.77843877e-05, -1.47154423e-02,  3.39095225e-02,\n",
       "         2.66248432e-03,  1.15238518e-02, -1.02527697e-01,\n",
       "        -2.48510995e-02,  4.93604222e-02, -2.01258344e-02,\n",
       "        -1.34214865e-02, -3.00232200e-03, -9.25991830e-03,\n",
       "        -3.17957304e-02, -1.60513114e-02,  3.11339155e-01,\n",
       "         5.12012528e-02,  2.01511698e-02, -1.20346284e-02,\n",
       "        -1.16021521e-02, -1.15251880e-01,  7.95303436e-02,\n",
       "        -2.99401329e-02,  3.95843295e-03, -1.14296944e-02,\n",
       "        -1.12457415e-02, -5.59987025e-03,  8.26402635e-03,\n",
       "         5.58598769e-03, -3.33967159e-02, -2.52837052e-02,\n",
       "         4.53752887e-01]])"
      ]
     },
     "execution_count": 17,
     "metadata": {},
     "output_type": "execute_result"
    }
   ],
   "source": [
    "val_dict = df_val.to_dict(orient='records')\n",
    "X_val = dv.transform(val_dict)\n",
    "\n",
    "#Train the model\n",
    "from sklearn.linear_model import LogisticRegression\n",
    "model = LogisticRegression(solver='liblinear', C=1.0, max_iter=1000, random_state=42)\n",
    "model.fit(X_train,y_train)\n",
    "model.coef_"
   ]
  },
  {
   "cell_type": "code",
   "execution_count": 18,
   "id": "465ff5fc-67f2-4cde-b9b1-be04f1ef7ec7",
   "metadata": {},
   "outputs": [],
   "source": [
    "#Evaluating the model\n",
    "y_pred = model.predict_proba(X_val)[:, 1]"
   ]
  },
  {
   "cell_type": "code",
   "execution_count": 19,
   "id": "0d19b279-4277-481a-bd14-a72e4c8ee23f",
   "metadata": {},
   "outputs": [],
   "source": [
    "y_pred = y_pred.astype(int)"
   ]
  },
  {
   "cell_type": "code",
   "execution_count": 20,
   "id": "9d1b2bea-7f0c-482d-8909-23b1f96b85d0",
   "metadata": {},
   "outputs": [
    {
     "data": {
      "text/plain": [
       "np.float64(0.444)"
      ]
     },
     "execution_count": 20,
     "metadata": {},
     "output_type": "execute_result"
    }
   ],
   "source": [
    "(y_val == y_pred).mean().round(3)"
   ]
  },
  {
   "cell_type": "code",
   "execution_count": 21,
   "id": "53aaac03-506f-4481-8af2-ac7eeb034d2a",
   "metadata": {},
   "outputs": [
    {
     "data": {
      "text/plain": [
       "np.float64(0.376)"
      ]
     },
     "execution_count": 21,
     "metadata": {},
     "output_type": "execute_result"
    }
   ],
   "source": [
    "y_pred_on_train_data = model.predict_proba(X_train)[:, 1]\n",
    "y_pred_on_train = y_pred_on_train_data.astype(int)\n",
    "(y_train == y_pred_on_train).mean().round(3)"
   ]
  },
  {
   "cell_type": "code",
   "execution_count": 22,
   "id": "e3200452-f69d-4e65-b7f5-14cde82caea9",
   "metadata": {},
   "outputs": [
    {
     "name": "stdout",
     "output_type": "stream",
     "text": [
      "C =0.01 accuracy = 0.444\n"
     ]
    }
   ],
   "source": [
    "#Q6 Using different C\n",
    "\n",
    "#for C in [0.01, 0.1, 1, 10, 100]:\n",
    "model = LogisticRegression(solver='liblinear', C=0.01, max_iter=1000, random_state=42)\n",
    "model.fit(X_train,y_train)\n",
    "model.coef_\n",
    "y_pred = model.predict_proba(X_val)[:, 1]\n",
    "y_pred = y_pred.astype(int)\n",
    "accuracy = (y_val == y_pred).mean().round(3)\n",
    "print ('C =0.01', f'accuracy = {accuracy}')"
   ]
  },
  {
   "cell_type": "code",
   "execution_count": 23,
   "id": "af5a857e-7134-49e0-8510-806195c3d431",
   "metadata": {},
   "outputs": [
    {
     "name": "stdout",
     "output_type": "stream",
     "text": [
      "C =0.1 accuracy = 0.444\n"
     ]
    }
   ],
   "source": [
    "model = LogisticRegression(solver='liblinear', C=0.1, max_iter=1000, random_state=42)\n",
    "model.fit(X_train,y_train)\n",
    "model.coef_\n",
    "y_pred = model.predict_proba(X_val)[:, 1]\n",
    "y_pred = y_pred.astype(int)\n",
    "accuracy = (y_val == y_pred).mean().round(3)\n",
    "print ('C =0.1', f'accuracy = {accuracy}')"
   ]
  },
  {
   "cell_type": "code",
   "execution_count": 24,
   "id": "edbaf9f3-1c64-4215-a3ad-77170a872ae2",
   "metadata": {},
   "outputs": [
    {
     "name": "stdout",
     "output_type": "stream",
     "text": [
      "C =1 accuracy = 0.444\n"
     ]
    }
   ],
   "source": [
    "model = LogisticRegression(solver='liblinear', C=1, max_iter=1000, random_state=42)\n",
    "model.fit(X_train,y_train)\n",
    "model.coef_\n",
    "y_pred = model.predict_proba(X_val)[:, 1]\n",
    "y_pred = y_pred.astype(int)\n",
    "accuracy = (y_val == y_pred).mean().round(3)\n",
    "print ('C =1', f'accuracy = {accuracy}')"
   ]
  },
  {
   "cell_type": "code",
   "execution_count": 25,
   "id": "13648e4c-ab67-420d-be8d-1439f420e63a",
   "metadata": {},
   "outputs": [
    {
     "name": "stdout",
     "output_type": "stream",
     "text": [
      "C =10 accuracy = 0.444\n"
     ]
    }
   ],
   "source": [
    "model = LogisticRegression(solver='liblinear', C=10, max_iter=1000, random_state=42)\n",
    "model.fit(X_train,y_train)\n",
    "model.coef_\n",
    "y_pred = model.predict_proba(X_val)[:, 1]\n",
    "y_pred = y_pred.astype(int)\n",
    "accuracy = (y_val == y_pred).mean().round(3)\n",
    "print ('C =10', f'accuracy = {accuracy}')"
   ]
  },
  {
   "cell_type": "code",
   "execution_count": 26,
   "id": "5a885d99-5400-4bb6-bbad-ff988b146901",
   "metadata": {},
   "outputs": [
    {
     "name": "stdout",
     "output_type": "stream",
     "text": [
      "C = 100 accuracy = 0.444\n"
     ]
    }
   ],
   "source": [
    "model = LogisticRegression(solver='liblinear', C=100, max_iter=1000, random_state=42)\n",
    "model.fit(X_train,y_train)\n",
    "model.coef_\n",
    "y_pred = model.predict_proba(X_val)[:, 1]\n",
    "y_pred = y_pred.astype(int)\n",
    "accuracy = (y_val == y_pred).mean().round(3)\n",
    "print ('C = 100', f'accuracy = {accuracy}')"
   ]
  },
  {
   "cell_type": "code",
   "execution_count": 27,
   "id": "f6f38d64-ed12-4917-bb70-ab02fd158148",
   "metadata": {},
   "outputs": [
    {
     "name": "stdout",
     "output_type": "stream",
     "text": [
      "C =0.1 accuracy = 0.444\n"
     ]
    }
   ],
   "source": [
    "#Q4\n",
    "model = LogisticRegression(solver='liblinear', C=0.1, max_iter=1000, random_state=42)\n",
    "model.fit(X_train,y_train)\n",
    "model.coef_\n",
    "y_pred = model.predict_proba(X_val)[:, 1]\n",
    "y_pred = y_pred.astype(int)\n",
    "accuracy = (y_val == y_pred).mean().round(3)\n",
    "print ('C =0.1', f'accuracy = {accuracy}')"
   ]
  },
  {
   "cell_type": "code",
   "execution_count": 28,
   "id": "3911fb30-a937-433a-947b-2dc727142cfc",
   "metadata": {},
   "outputs": [
    {
     "name": "stdout",
     "output_type": "stream",
     "text": [
      "number_of_courses_viewed 0.44368600682593856\n",
      "annual_income 0.44368600682593856\n",
      "interaction_count 0.44368600682593856\n",
      "lead_score 0.44368600682593856\n",
      "lead_source 0.44368600682593856\n",
      "industry 0.44368600682593856\n",
      "employment_status 0.44368600682593856\n"
     ]
    }
   ],
   "source": [
    "#Q5\n",
    "#FULL MODEL:\n",
    "#from sklearn.feature_extraction import DictVectorizer\n",
    "#train_dict = df_train.to_dict(orient='records')\n",
    "#dv = DictVectorizer(sparse=False)\n",
    "#dv.fit(train_dict)\n",
    "#X_train = dv.transform(train_dict)\n",
    "#val_dict = df_val.to_dict(orient='records')\n",
    "#X_val = dv.transform(val_dict)\n",
    "\n",
    "#Train the model\n",
    "\n",
    "list = ['number_of_courses_viewed', 'annual_income', 'interaction_count', 'lead_score','lead_source', 'industry', 'employment_status', 'location']\n",
    "from sklearn.linear_model import LogisticRegression\n",
    "model = LogisticRegression(solver='liblinear', C=1.0, max_iter=1000, random_state=42)\n",
    "\n",
    "for i in range(len(list) - 1):\n",
    "    removed = list.pop(0)\n",
    "    train_dict = df_train[list].to_dict(orient='records')\n",
    "    #print(train_dict[0])\n",
    "    dv = DictVectorizer(sparse=False)\n",
    "    dv.fit(train_dict)\n",
    "    X_train = dv.transform(train_dict)\n",
    "    val_dict = df_val[list].to_dict(orient='records')\n",
    "    #print(val_dict[0])\n",
    "    X_val = dv.transform(val_dict)\n",
    "    model.fit(X_train,y_train)\n",
    "    model.coef_\n",
    "    y_pred = model.predict_proba(X_val)[:, 1]\n",
    "    y_pred = y_pred.astype(int)\n",
    "    accuracy = (y_val == y_pred).mean()\n",
    "    print(removed, accuracy)"
   ]
  },
  {
   "cell_type": "code",
   "execution_count": 29,
   "id": "661463f3-cc44-4330-93a0-155404461811",
   "metadata": {},
   "outputs": [
    {
     "name": "stdout",
     "output_type": "stream",
     "text": [
      "annual_income\n",
      "interaction_count\n",
      "lead_score\n",
      "lead_source\n",
      "industry\n",
      "employment_status\n",
      "location\n"
     ]
    }
   ],
   "source": [
    "list = ['number_of_courses_viewed', 'annual_income', 'interaction_count', 'lead_score','lead_source', 'industry', 'employment_status', 'location']\n",
    "for i in range(len(list) - 1):\n",
    "    list.pop(0)\n",
    "    print(list[0])"
   ]
  },
  {
   "cell_type": "code",
   "execution_count": null,
   "id": "8d88410b-2af7-4eff-8228-9c6531d3ad97",
   "metadata": {},
   "outputs": [],
   "source": []
  },
  {
   "cell_type": "code",
   "execution_count": null,
   "id": "52eb30f4-47d3-4f71-b5d8-f9091f1fc329",
   "metadata": {},
   "outputs": [],
   "source": []
  },
  {
   "cell_type": "code",
   "execution_count": null,
   "id": "3ec5d69e-42a1-47dc-ad2d-af09967f033a",
   "metadata": {},
   "outputs": [],
   "source": []
  }
 ],
 "metadata": {
  "kernelspec": {
   "display_name": "Python (zoomcamp)",
   "language": "python",
   "name": "zoomcamp"
  },
  "language_info": {
   "codemirror_mode": {
    "name": "ipython",
    "version": 3
   },
   "file_extension": ".py",
   "mimetype": "text/x-python",
   "name": "python",
   "nbconvert_exporter": "python",
   "pygments_lexer": "ipython3",
   "version": "3.12.1"
  }
 },
 "nbformat": 4,
 "nbformat_minor": 5
}
