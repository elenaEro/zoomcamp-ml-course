{
 "cells": [
  {
   "cell_type": "code",
   "execution_count": 1,
   "id": "39c00b19-11f4-4fd0-a7f6-e11700cd1798",
   "metadata": {},
   "outputs": [],
   "source": [
    "import pandas as pd"
   ]
  },
  {
   "cell_type": "code",
   "execution_count": 2,
   "id": "2082affa-9b88-44b9-97ff-19067ece1b96",
   "metadata": {},
   "outputs": [
    {
     "data": {
      "text/plain": [
       "6"
      ]
     },
     "execution_count": 2,
     "metadata": {},
     "output_type": "execute_result"
    }
   ],
   "source": [
    "3 + 3"
   ]
  },
  {
   "cell_type": "code",
   "execution_count": 3,
   "id": "e0733ebb-f08f-4a20-b17c-93415ccc0d10",
   "metadata": {},
   "outputs": [
    {
     "data": {
      "text/plain": [
       "'2.3.2'"
      ]
     },
     "execution_count": 3,
     "metadata": {},
     "output_type": "execute_result"
    }
   ],
   "source": [
    "pd.__version__"
   ]
  },
  {
   "cell_type": "code",
   "execution_count": 4,
   "id": "bb638b1b-c317-473e-8eec-8edaefc21f38",
   "metadata": {},
   "outputs": [],
   "source": [
    "df = pd.read_csv('https://raw.githubusercontent.com/alexeygrigorev/datasets/master/car_fuel_efficiency.csv')"
   ]
  },
  {
   "cell_type": "code",
   "execution_count": 5,
   "id": "ff6fcf23-0c0b-4df3-9bd1-17e8040b032a",
   "metadata": {},
   "outputs": [
    {
     "name": "stdout",
     "output_type": "stream",
     "text": [
      "      engine_displacement  num_cylinders  horsepower  vehicle_weight  \\\n",
      "0                     170            3.0       159.0     3413.433759   \n",
      "1                     130            5.0        97.0     3149.664934   \n",
      "2                     170            NaN        78.0     3079.038997   \n",
      "3                     220            4.0         NaN     2542.392402   \n",
      "4                     210            1.0       140.0     3460.870990   \n",
      "...                   ...            ...         ...             ...   \n",
      "9699                  140            5.0       164.0     2981.107371   \n",
      "9700                  180            NaN       154.0     2439.525729   \n",
      "9701                  220            2.0       138.0     2583.471318   \n",
      "9702                  230            4.0       177.0     2905.527390   \n",
      "9703                  270            3.0       140.0     2908.043477   \n",
      "\n",
      "      acceleration  model_year  origin fuel_type         drivetrain  \\\n",
      "0             17.7        2003  Europe  Gasoline    All-wheel drive   \n",
      "1             17.8        2007     USA  Gasoline  Front-wheel drive   \n",
      "2             15.1        2018  Europe  Gasoline  Front-wheel drive   \n",
      "3             20.2        2009     USA    Diesel    All-wheel drive   \n",
      "4             14.4        2009  Europe  Gasoline    All-wheel drive   \n",
      "...            ...         ...     ...       ...                ...   \n",
      "9699          17.3        2013  Europe    Diesel  Front-wheel drive   \n",
      "9700          15.0        2004     USA  Gasoline    All-wheel drive   \n",
      "9701          15.1        2008     USA    Diesel    All-wheel drive   \n",
      "9702          19.4        2011     USA    Diesel  Front-wheel drive   \n",
      "9703          14.7        2005    Asia    Diesel    All-wheel drive   \n",
      "\n",
      "      num_doors  fuel_efficiency_mpg  \n",
      "0           0.0            13.231729  \n",
      "1           0.0            13.688217  \n",
      "2           0.0            14.246341  \n",
      "3           2.0            16.912736  \n",
      "4           2.0            12.488369  \n",
      "...         ...                  ...  \n",
      "9699        NaN            15.101802  \n",
      "9700        0.0            17.962326  \n",
      "9701       -1.0            17.186587  \n",
      "9702        1.0            15.331551  \n",
      "9703       -1.0            14.884467  \n",
      "\n",
      "[9704 rows x 11 columns]\n"
     ]
    }
   ],
   "source": [
    "print(df)"
   ]
  },
  {
   "cell_type": "code",
   "execution_count": 7,
   "id": "63c57e77-d8bf-4ba5-8c87-70bdc6f7b2fe",
   "metadata": {},
   "outputs": [
    {
     "name": "stdout",
     "output_type": "stream",
     "text": [
      "['Gasoline' 'Diesel']\n"
     ]
    }
   ],
   "source": [
    "print(df['fuel_type'].unique())"
   ]
  },
  {
   "cell_type": "code",
   "execution_count": 10,
   "id": "ab8f3838-3ad6-43e0-84c9-601d1bc7a918",
   "metadata": {},
   "outputs": [
    {
     "name": "stdout",
     "output_type": "stream",
     "text": [
      "engine_displacement      0\n",
      "num_cylinders          482\n",
      "horsepower             708\n",
      "vehicle_weight           0\n",
      "acceleration           930\n",
      "model_year               0\n",
      "origin                   0\n",
      "fuel_type                0\n",
      "drivetrain               0\n",
      "num_doors              502\n",
      "fuel_efficiency_mpg      0\n",
      "dtype: int64\n"
     ]
    }
   ],
   "source": [
    "print(df.isnull().sum())"
   ]
  },
  {
   "cell_type": "code",
   "execution_count": 24,
   "id": "1b65f3d2-0bb9-4399-9592-3522cf77ec53",
   "metadata": {},
   "outputs": [
    {
     "name": "stdout",
     "output_type": "stream",
     "text": [
      "23.759122836520497\n"
     ]
    }
   ],
   "source": [
    "asia_fuel_efficiency = df[df['origin'] == 'Asia']['fuel_efficiency_mpg']\n",
    "print(asia_fuel_efficiency.max())"
   ]
  },
  {
   "cell_type": "code",
   "execution_count": 26,
   "id": "d11474c3-b5fd-41bd-a202-b503f9e319bc",
   "metadata": {},
   "outputs": [
    {
     "name": "stdout",
     "output_type": "stream",
     "text": [
      "149.0\n"
     ]
    }
   ],
   "source": [
    "median_value = df['horsepower'].median()\n",
    "print(median_value)"
   ]
  },
  {
   "cell_type": "code",
   "execution_count": 28,
   "id": "1f028871-6f0e-4a53-b76b-d6b502356605",
   "metadata": {},
   "outputs": [
    {
     "name": "stdout",
     "output_type": "stream",
     "text": [
      "152.0\n"
     ]
    }
   ],
   "source": [
    "mode_value = df['horsepower'].mode()[0]\n",
    "print(mode_value)"
   ]
  },
  {
   "cell_type": "code",
   "execution_count": 29,
   "id": "cea3ad40-af63-4408-aaa5-ad482985d1ad",
   "metadata": {},
   "outputs": [
    {
     "name": "stdout",
     "output_type": "stream",
     "text": [
      "152.0\n"
     ]
    }
   ],
   "source": [
    "df['horsepower'] = df['horsepower'].fillna(mode_value)\n",
    "new_median_value = df['horsepower'].median()\n",
    "print(new_median_value)"
   ]
  },
  {
   "cell_type": "code",
   "execution_count": 30,
   "id": "495ba9ec-b738-4173-a026-a1347892641b",
   "metadata": {},
   "outputs": [],
   "source": [
    "## sum of weights\n",
    "import numpy as np"
   ]
  },
  {
   "cell_type": "code",
   "execution_count": 32,
   "id": "e86590a2-e235-4917-a5f2-06f40e0d3c2c",
   "metadata": {},
   "outputs": [
    {
     "name": "stdout",
     "output_type": "stream",
     "text": [
      "    vehicle_weight  model_year\n",
      "8      2714.219310        2016\n",
      "12     2783.868974        2010\n",
      "14     3582.687368        2007\n",
      "20     2231.808142        2011\n",
      "21     2659.431451        2016\n",
      "34     2844.227534        2014\n",
      "38     3761.994038        2019\n",
      "[[2714.21930965 2016.        ]\n",
      " [2783.86897424 2010.        ]\n",
      " [3582.68736772 2007.        ]\n",
      " [2231.8081416  2011.        ]\n",
      " [2659.43145076 2016.        ]\n",
      " [2844.22753389 2014.        ]\n",
      " [3761.99403819 2019.        ]]\n"
     ]
    }
   ],
   "source": [
    "asian_cars = df[df['origin'] == 'Asia'][['vehicle_weight', 'model_year']]\n",
    "asian_cars_first7 = asian_cars.iloc[:7]\n",
    "print(asian_cars_first7)\n",
    "np_asian_cars = np.array(asian_cars_first7)\n",
    "print(np_asian_cars)"
   ]
  },
  {
   "cell_type": "code",
   "execution_count": 37,
   "id": "f8c20e23-a9fe-4930-afa0-96190e62f0c9",
   "metadata": {},
   "outputs": [
    {
     "name": "stdout",
     "output_type": "stream",
     "text": [
      "[[62248334.33150762 41431216.5073268 ]\n",
      " [41431216.5073268  28373339.        ]]\n"
     ]
    }
   ],
   "source": [
    "feature_correlation_matrix = np_asian_cars.T @ np_asian_cars\n",
    "print(feature_correlation_matrix)"
   ]
  },
  {
   "cell_type": "code",
   "execution_count": 38,
   "id": "19525ad7-a088-4555-960f-e2617d5a03d5",
   "metadata": {},
   "outputs": [],
   "source": [
    "inverse_feature_matrix = np.linalg.inv(feature_correlation_matrix)"
   ]
  },
  {
   "cell_type": "code",
   "execution_count": 39,
   "id": "c7b96b0a-e07b-4e7f-9949-9de0667ae43e",
   "metadata": {},
   "outputs": [],
   "source": [
    "y = [1100, 1300, 800, 900, 1000, 1100, 1200]"
   ]
  },
  {
   "cell_type": "code",
   "execution_count": 41,
   "id": "8a57cc34-3da8-4c5b-8546-47c6caad69a5",
   "metadata": {},
   "outputs": [],
   "source": [
    "weights = inverse_feature_matrix @ np_asian_cars.T @ y"
   ]
  },
  {
   "cell_type": "code",
   "execution_count": 44,
   "id": "4b5646ab-3168-4576-9b57-4eec3fc35107",
   "metadata": {},
   "outputs": [
    {
     "name": "stdout",
     "output_type": "stream",
     "text": [
      "0.5187709081074016\n"
     ]
    }
   ],
   "source": [
    "sum_weights = weights.sum()\n",
    "print(sum_weights)"
   ]
  },
  {
   "cell_type": "code",
   "execution_count": null,
   "id": "94132664-2c85-4595-9294-59ff657c0794",
   "metadata": {},
   "outputs": [],
   "source": []
  },
  {
   "cell_type": "code",
   "execution_count": null,
   "id": "53b85ff5-4baa-4422-914a-65040b162b9c",
   "metadata": {},
   "outputs": [],
   "source": []
  }
 ],
 "metadata": {
  "kernelspec": {
   "display_name": "Python (zoomcamp)",
   "language": "python",
   "name": "zoomcamp"
  },
  "language_info": {
   "codemirror_mode": {
    "name": "ipython",
    "version": 3
   },
   "file_extension": ".py",
   "mimetype": "text/x-python",
   "name": "python",
   "nbconvert_exporter": "python",
   "pygments_lexer": "ipython3",
   "version": "3.12.1"
  }
 },
 "nbformat": 4,
 "nbformat_minor": 5
}
