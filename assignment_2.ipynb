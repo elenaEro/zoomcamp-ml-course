{
 "cells": [
  {
   "cell_type": "code",
   "execution_count": 1,
   "id": "ccf2ded5-dcb2-4e4f-8f49-af52a0c06fe6",
   "metadata": {},
   "outputs": [
    {
     "name": "stdout",
     "output_type": "stream",
     "text": [
      "   engine_displacement  num_cylinders  horsepower  vehicle_weight  \\\n",
      "0                  170            3.0       159.0     3413.433759   \n",
      "1                  130            5.0        97.0     3149.664934   \n",
      "2                  170            NaN        78.0     3079.038997   \n",
      "3                  220            4.0         NaN     2542.392402   \n",
      "4                  210            1.0       140.0     3460.870990   \n",
      "\n",
      "   acceleration  model_year  origin fuel_type         drivetrain  num_doors  \\\n",
      "0          17.7        2003  Europe  Gasoline    All-wheel drive        0.0   \n",
      "1          17.8        2007     USA  Gasoline  Front-wheel drive        0.0   \n",
      "2          15.1        2018  Europe  Gasoline  Front-wheel drive        0.0   \n",
      "3          20.2        2009     USA    Diesel    All-wheel drive        2.0   \n",
      "4          14.4        2009  Europe  Gasoline    All-wheel drive        2.0   \n",
      "\n",
      "   fuel_efficiency_mpg  \n",
      "0            13.231729  \n",
      "1            13.688217  \n",
      "2            14.246341  \n",
      "3            16.912736  \n",
      "4            12.488369  \n"
     ]
    }
   ],
   "source": [
    "import pandas as pd\n",
    "import numpy as np\n",
    "df = pd.read_csv('https://raw.githubusercontent.com/alexeygrigorev/datasets/master/car_fuel_efficiency.csv')\n",
    "print(df.head())"
   ]
  },
  {
   "cell_type": "code",
   "execution_count": 2,
   "id": "6bda586c-1776-4f19-aef9-dd81cad06b0c",
   "metadata": {},
   "outputs": [
    {
     "name": "stdout",
     "output_type": "stream",
     "text": [
      "engine_displacement      0\n",
      "num_cylinders          482\n",
      "horsepower             708\n",
      "vehicle_weight           0\n",
      "acceleration           930\n",
      "model_year               0\n",
      "origin                   0\n",
      "fuel_type                0\n",
      "drivetrain               0\n",
      "num_doors              502\n",
      "fuel_efficiency_mpg      0\n",
      "dtype: int64\n"
     ]
    }
   ],
   "source": [
    "print(df.isnull().sum())"
   ]
  },
  {
   "cell_type": "code",
   "execution_count": 3,
   "id": "66d9ed34-23c0-4bd0-8484-76500a668087",
   "metadata": {},
   "outputs": [
    {
     "name": "stdout",
     "output_type": "stream",
     "text": [
      "149.0\n"
     ]
    }
   ],
   "source": [
    "print(df['horsepower'].median())"
   ]
  },
  {
   "cell_type": "code",
   "execution_count": 4,
   "id": "64264a28-dcac-47d5-a6fa-37fe9eb6cf72",
   "metadata": {},
   "outputs": [
    {
     "name": "stdout",
     "output_type": "stream",
     "text": [
      "0    152.0\n",
      "Name: horsepower, dtype: float64\n"
     ]
    },
    {
     "data": {
      "text/plain": [
       "<Axes: xlabel='fuel_efficiency_mpg', ylabel='Count'>"
      ]
     },
     "execution_count": 4,
     "metadata": {},
     "output_type": "execute_result"
    },
    {
     "data": {
      "image/png": "[encoded data removed]",
      "text/plain": [
       "<Figure size 640x480 with 1 Axes>"
      ]
     },
     "metadata": {},
     "output_type": "display_data"
    }
   ],
   "source": [
    "print(df['horsepower'].mode())\n",
    "\n",
    "import seaborn as sns\n",
    "sns.histplot(df.fuel_efficiency_mpg, bins = 100)"
   ]
  },
  {
   "cell_type": "code",
   "execution_count": 5,
   "id": "a8d4087b-7dc8-471b-9264-bb86e0769110",
   "metadata": {},
   "outputs": [
    {
     "name": "stdout",
     "output_type": "stream",
     "text": [
      "   engine_displacement  horsepower  vehicle_weight  model_year  \\\n",
      "0                  170       159.0     3413.433759        2003   \n",
      "1                  130        97.0     3149.664934        2007   \n",
      "2                  170        78.0     3079.038997        2018   \n",
      "3                  220         NaN     2542.392402        2009   \n",
      "4                  210       140.0     3460.870990        2009   \n",
      "\n",
      "   fuel_efficiency_mpg  \n",
      "0            13.231729  \n",
      "1            13.688217  \n",
      "2            14.246341  \n",
      "3            16.912736  \n",
      "4            12.488369  \n"
     ]
    }
   ],
   "source": [
    "df1 = df.drop(['num_cylinders', 'acceleration', 'origin', 'fuel_type', 'drivetrain', 'num_doors'], axis = 1)\n",
    "print(df1.head())"
   ]
  },
  {
   "cell_type": "code",
   "execution_count": 6,
   "id": "24d36f8f-4ab4-4287-8f24-fc37e167cdee",
   "metadata": {},
   "outputs": [],
   "source": [
    "n = len(df1)"
   ]
  },
  {
   "cell_type": "code",
   "execution_count": 7,
   "id": "c01feb19-5857-4d9e-80c3-38aca6fca6d1",
   "metadata": {},
   "outputs": [
    {
     "name": "stdout",
     "output_type": "stream",
     "text": [
      "9704\n"
     ]
    }
   ],
   "source": [
    "print(n)\n"
   ]
  },
  {
   "cell_type": "code",
   "execution_count": 8,
   "id": "a1ce5ccf-c7a2-4781-8570-fb2784776e13",
   "metadata": {},
   "outputs": [
    {
     "name": "stdout",
     "output_type": "stream",
     "text": [
      "5822 1940 1942\n"
     ]
    }
   ],
   "source": [
    "n_train = int(n*0.6)\n",
    "n_val = int(n*0.2)\n",
    "n_test = n - n_train - n_val\n",
    "print(n_train, n_val, n_test)"
   ]
  },
  {
   "cell_type": "code",
   "execution_count": 9,
   "id": "3759cb9e-dc89-48bf-9874-3a8992698d68",
   "metadata": {},
   "outputs": [
    {
     "name": "stdout",
     "output_type": "stream",
     "text": [
      "9704\n"
     ]
    }
   ],
   "source": [
    "print(1940+1942+5822)"
   ]
  },
  {
   "cell_type": "code",
   "execution_count": 10,
   "id": "1f4d30b7-30b6-40b8-8f01-06c34b425154",
   "metadata": {},
   "outputs": [
    {
     "name": "stdout",
     "output_type": "stream",
     "text": [
      "      engine_displacement  horsepower  vehicle_weight  model_year  \\\n",
      "483                   220       144.0     2535.887591        2009   \n",
      "7506                  160       141.0     2741.170484        2019   \n",
      "8795                  230       155.0     2471.880237        2017   \n",
      "1688                  150       206.0     3748.164469        2015   \n",
      "6217                  300       111.0     2135.716359        2006   \n",
      "...                   ...         ...             ...         ...   \n",
      "8387                  160       111.0     3038.134712        2002   \n",
      "7331                  160       157.0     2877.624938        2006   \n",
      "1696                  260       139.0     2606.972984        2009   \n",
      "5685                  280       132.0     4004.214323        2014   \n",
      "6735                  210       152.0     2500.175687        2020   \n",
      "\n",
      "      fuel_efficiency_mpg  \n",
      "483             16.642943  \n",
      "7506            16.298377  \n",
      "8795            18.591822  \n",
      "1688            11.818843  \n",
      "6217            19.402209  \n",
      "...                   ...  \n",
      "8387            14.203076  \n",
      "7331            15.278030  \n",
      "1696            16.964054  \n",
      "5685            10.059094  \n",
      "6735            17.593237  \n",
      "\n",
      "[5822 rows x 5 columns]\n"
     ]
    }
   ],
   "source": [
    "#shuffling the data\n",
    "idx = np.arange(n)\n",
    "np.random.seed(42)\n",
    "np.random.shuffle(idx)\n",
    "df_train = df1.iloc[idx[:n_train]]\n",
    "df_val = df1.iloc[idx[n_train:n_train + n_val]]\n",
    "df_test = df1.iloc[idx[n_train + n_val:]]\n",
    "print(df_train)"
   ]
  },
  {
   "cell_type": "code",
   "execution_count": 11,
   "id": "416e6d8e-804b-4113-86c6-7ab1b6319df6",
   "metadata": {},
   "outputs": [
    {
     "name": "stdout",
     "output_type": "stream",
     "text": [
      "5822\n"
     ]
    }
   ],
   "source": [
    "print(len(df_train))"
   ]
  },
  {
   "cell_type": "code",
   "execution_count": 12,
   "id": "57ccfd13-4d86-494e-98a5-23be54ad20d8",
   "metadata": {},
   "outputs": [
    {
     "name": "stdout",
     "output_type": "stream",
     "text": [
      "1940\n"
     ]
    }
   ],
   "source": [
    "print(len(df_val))"
   ]
  },
  {
   "cell_type": "code",
   "execution_count": 13,
   "id": "6b90c02d-1e13-4a6a-beaa-627a2a49b949",
   "metadata": {},
   "outputs": [
    {
     "name": "stdout",
     "output_type": "stream",
     "text": [
      "1942\n"
     ]
    }
   ],
   "source": [
    "print(len(df_test))"
   ]
  },
  {
   "cell_type": "code",
   "execution_count": 14,
   "id": "bade3e6c-6e9b-4799-b4e0-c6803ce554e9",
   "metadata": {},
   "outputs": [
    {
     "name": "stdout",
     "output_type": "stream",
     "text": [
      "149.54348229185982\n"
     ]
    }
   ],
   "source": [
    "#mean of training dataset\n",
    "print(df_train['horsepower'].mean())"
   ]
  },
  {
   "cell_type": "code",
   "execution_count": 15,
   "id": "f443b7e2-547b-4595-a4a3-fa38cfcdf989",
   "metadata": {},
   "outputs": [
    {
     "name": "stdout",
     "output_type": "stream",
     "text": [
      "[13.73334321 15.81604972 15.80435416 ... 18.40443466 20.50246014\n",
      " 16.81624056]\n"
     ]
    }
   ],
   "source": [
    "#2 preparing 2 sets of data training with o/mean\n",
    "df_train = df_train.reset_index(drop=True)\n",
    "df_val = df_val.reset_index(drop=True)\n",
    "df_test = df_test.reset_index(drop=True)\n",
    "y_train = df_train.fuel_efficiency_mpg.values\n",
    "y_val = df_val.fuel_efficiency_mpg.values\n",
    "y_test = df_test.fuel_efficiency_mpg.values\n",
    "print(y_test)\n",
    "del df_train['fuel_efficiency_mpg']\n",
    "del df_val['fuel_efficiency_mpg']\n",
    "del df_test['fuel_efficiency_mpg']"
   ]
  },
  {
   "cell_type": "code",
   "execution_count": 16,
   "id": "d08990b3-9c2a-45a8-8a58-58933e0e3b63",
   "metadata": {},
   "outputs": [],
   "source": [
    "df_train_zero = df_train.fillna(0)\n",
    "df_train_mean = df_train.fillna(149.5)\n"
   ]
  },
  {
   "cell_type": "code",
   "execution_count": 17,
   "id": "d240a54c-65b8-4216-8b52-e68ed2df3ce9",
   "metadata": {},
   "outputs": [
    {
     "name": "stdout",
     "output_type": "stream",
     "text": [
      "[[ 220.          144.         2535.88759124 2009.        ]\n",
      " [ 160.          141.         2741.17048439 2019.        ]\n",
      " [ 230.          155.         2471.88023726 2017.        ]\n",
      " ...\n",
      " [ 260.          139.         2606.9729844  2009.        ]\n",
      " [ 280.          132.         4004.21432295 2014.        ]\n",
      " [ 210.          152.         2500.17568746 2020.        ]]\n",
      "28.90708839767159 [ 0.00012036  0.01030283 -0.00500996 -0.00022572]\n"
     ]
    }
   ],
   "source": [
    "# linear regression for a dataset with mean instead NA\n",
    "X = df_train_mean.values\n",
    "y = y_train\n",
    "print(X)\n",
    "\n",
    "def train_linear_regression(X, y):\n",
    "    ones = np.ones(X.shape[0])\n",
    "    X = np.column_stack([ones, X])\n",
    "    XTX = X.T.dot(X)\n",
    "    XTX_inv = np.linalg.inv(XTX)\n",
    "    w_full = XTX_inv.dot(X.T).dot(y)\n",
    "    print(w_full[0], w_full[1:])\n",
    "    return w_full[0], w_full[1:]\n",
    "\n",
    "w0, w = train_linear_regression(X, y)"
   ]
  },
  {
   "cell_type": "code",
   "execution_count": 18,
   "id": "2cabc15e-9baf-442c-b4a5-0933c293d98b",
   "metadata": {},
   "outputs": [
    {
     "data": {
      "text/plain": [
       "<Axes: ylabel='Count'>"
      ]
     },
     "execution_count": 18,
     "metadata": {},
     "output_type": "execute_result"
    },
    {
     "data": {
      "image/png": "[encoded data removed]",
      "text/plain": [
       "<Figure size 640x480 with 1 Axes>"
      ]
     },
     "metadata": {},
     "output_type": "display_data"
    }
   ],
   "source": [
    "y_pred = w0 + X.dot(w)\n",
    "\n",
    "sns.histplot(y_pred)\n",
    "sns.histplot(y_train)\n"
   ]
  },
  {
   "cell_type": "code",
   "execution_count": 19,
   "id": "91c93348-bf12-407f-a48b-13bee4c99a09",
   "metadata": {},
   "outputs": [
    {
     "name": "stdout",
     "output_type": "stream",
     "text": [
      "[[ 220.          144.         2535.88759124 2009.        ]\n",
      " [ 160.          141.         2741.17048439 2019.        ]\n",
      " [ 230.          155.         2471.88023726 2017.        ]\n",
      " ...\n",
      " [ 260.          139.         2606.9729844  2009.        ]\n",
      " [ 280.          132.         4004.21432295 2014.        ]\n",
      " [ 210.          152.         2500.17568746 2020.        ]] [16.64294342 16.29837715 18.59182197 ... 16.96405425 10.05909406\n",
      " 17.59323665]\n",
      "28.810749330744027 [ 9.88022381e-05  3.54195814e-03 -5.01316573e-03  3.51135284e-04]\n"
     ]
    },
    {
     "data": {
      "text/plain": [
       "<Axes: ylabel='Count'>"
      ]
     },
     "execution_count": 19,
     "metadata": {},
     "output_type": "execute_result"
    },
    {
     "data": {
      "image/png": "[encoded data removed]",
      "text/plain": [
       "<Figure size 640x480 with 1 Axes>"
      ]
     },
     "metadata": {},
     "output_type": "display_data"
    }
   ],
   "source": [
    "# linear regression for a dataset with zero instead NA\n",
    "X = df_train_zero.values\n",
    "y = y_train\n",
    "print(X, y)\n",
    "\n",
    "def train_linear_regression(X, y):\n",
    "    ones = np.ones(X.shape[0])\n",
    "    X = np.column_stack([ones, X])\n",
    "    XTX = X.T.dot(X)\n",
    "    XTX_inv = np.linalg.inv(XTX)\n",
    "    w_full = XTX_inv.dot(X.T).dot(y)\n",
    "    print(w_full[0], w_full[1:])\n",
    "    return w_full[0], w_full[1:]\n",
    "\n",
    "w0, w = train_linear_regression(X, y)\n",
    "\n",
    "y_pred_zero = w0 + X.dot(w)\n",
    "\n",
    "sns.histplot(y_pred_zero)\n",
    "sns.histplot(y_train)"
   ]
  },
  {
   "cell_type": "code",
   "execution_count": 20,
   "id": "1661e704-6fe7-41a2-9b8f-0a9e99211ca9",
   "metadata": {},
   "outputs": [
    {
     "name": "stdout",
     "output_type": "stream",
     "text": [
      "0.46\n"
     ]
    },
    {
     "data": {
      "text/plain": [
       "np.float64(0.46)"
      ]
     },
     "execution_count": 20,
     "metadata": {},
     "output_type": "execute_result"
    }
   ],
   "source": [
    "#RSME asses:\n",
    "def rmse(y, i):\t\n",
    "    error = y-i\n",
    "    se = error ** 2\n",
    "    mse = se.mean()\n",
    "    result = round(np.sqrt(mse), 2)\n",
    "    print(result)\n",
    "    return result\n",
    "    \n",
    "rmse(y_train, y_pred)\n"
   ]
  },
  {
   "cell_type": "code",
   "execution_count": 21,
   "id": "06383d7b-0f51-48af-81ab-149ac39e36c4",
   "metadata": {},
   "outputs": [
    {
     "name": "stdout",
     "output_type": "stream",
     "text": [
      "0.52\n"
     ]
    },
    {
     "data": {
      "text/plain": [
       "np.float64(0.52)"
      ]
     },
     "execution_count": 21,
     "metadata": {},
     "output_type": "execute_result"
    }
   ],
   "source": [
    "rmse(y_train, y_pred_zero)"
   ]
  },
  {
   "cell_type": "code",
   "execution_count": 22,
   "id": "71d8a844-aa88-4ddd-a6b7-915d22771ab2",
   "metadata": {},
   "outputs": [
    {
     "name": "stdout",
     "output_type": "stream",
     "text": [
      "23.79451263937277 [ 0.00012332  0.00394721 -0.00501617  0.00281849]\n",
      "0.52\n",
      "24.66010464837413 [ 0.00029699  0.0099542  -0.00502625  0.0019172 ]\n",
      "0.6\n"
     ]
    },
    {
     "data": {
      "text/plain": [
       "np.float64(0.6)"
      ]
     },
     "execution_count": 22,
     "metadata": {},
     "output_type": "execute_result"
    }
   ],
   "source": [
    "# Validating the quality of models with validating dataset\n",
    "X_val_zero = df_val.fillna(0).values\n",
    "y = y_val\n",
    "w0, w = train_linear_regression(X_val_zero, y)\n",
    "y_pred_zero = w0 + X_val_zero.dot(w)\n",
    "rmse(y, y_pred_zero)\n",
    "\n",
    "X_val_mean = df_val.fillna(149.5).values\n",
    "y = y_val\n",
    "w0, w = train_linear_regression(X_val_mean, y)\n",
    "y_pred_mean = w0 + X_val_zero.dot(w)\n",
    "rmse(y, y_pred_mean)"
   ]
  },
  {
   "cell_type": "code",
   "execution_count": 23,
   "id": "9ff08229-9246-4303-8f8f-a9f232f54ad9",
   "metadata": {},
   "outputs": [
    {
     "name": "stdout",
     "output_type": "stream",
     "text": [
      "[[ 250.          154.         2254.31324473 2002.        ]\n",
      " [ 210.          152.         2435.20360628 2004.        ]\n",
      " [ 180.          112.         2772.13441008 2020.        ]\n",
      " ...\n",
      " [ 290.          205.         3403.40149596 2019.        ]\n",
      " [ 200.          159.         2752.51603879 2009.        ]\n",
      " [ 230.          202.         3303.00068812 2008.        ]] [18.92574819 17.96528447 15.36634109 ... 13.86860675 15.66540251\n",
      " 13.61312692]\n",
      "0.52\n",
      "0 0.52\n",
      "0.52\n",
      "0.01 0.52\n",
      "0.52\n",
      "0.1 0.52\n",
      "0.52\n",
      "1 0.52\n",
      "0.52\n",
      "5 0.52\n",
      "0.52\n",
      "10 0.52\n",
      "0.52\n",
      "100 0.52\n"
     ]
    }
   ],
   "source": [
    "#Comparing different coefficients of normalisation:\n",
    "\n",
    "X = X_val_zero\n",
    "y = y_val\n",
    "def train_linear_regression_reg(X, y, r):\n",
    "    ones = np.ones(X.shape[0])\n",
    "    X = np.column_stack([ones, X])\n",
    "    XTX = X.T.dot(X) + r * np.eye(XTX.shape[0])\n",
    "    XTX_inv = np.linalg.inv(XTX)\n",
    "    w_full = XTX_inv.dot(X.T).dot(y)\n",
    "    return w_full[0], w_full[1:]\n",
    "print(X, y)\n",
    "\n",
    "def train_linear_regression_reg(X, y, r):\n",
    "    ones = np.ones(X.shape[0])\n",
    "    X = np.column_stack([ones, X])\n",
    "    XTX = X.T.dot(X)\n",
    "    XTX = XTX + r * np.eye(XTX.shape[0])\n",
    "    XTX_inv = np.linalg.inv(XTX)\n",
    "    w_full = XTX_inv.dot(X.T).dot(y)\n",
    "    return w_full[0], w_full[1:]\n",
    "\n",
    "for r in [0, 0.01, 0.1, 1, 5, 10, 100]: \n",
    "    w0, w = train_linear_regression_reg(X, y, r)\n",
    "    y_pred_reg = w0 + X.dot(w)\n",
    "    score = rmse(y_val, y_pred_reg)\n",
    "    print(r, score)\n",
    "\n",
    "\n",
    "    \n"
   ]
  },
  {
   "cell_type": "code",
   "execution_count": 27,
   "id": "faaac3f5-9a2a-45b0-bec2-99ffb7214419",
   "metadata": {},
   "outputs": [
    {
     "name": "stdout",
     "output_type": "stream",
     "text": [
      "27.329325146630893 [ 0.00017705  0.00371137 -0.00499983  0.00104937]\n",
      "0.52\n",
      "0.52\n",
      "28.940064356364505 [ 9.58942447e-05  3.52278376e-03 -5.01880453e-03  2.98213836e-04]\n",
      "0.52\n",
      "0.52\n",
      "25.857415151532642 [ 0.00015527  0.00379238 -0.00500626  0.00179045]\n",
      "0.52\n",
      "0.52\n",
      "28.073015756355787 [ 0.00018176  0.00372564 -0.00500868  0.00068943]\n",
      "0.52\n",
      "0.52\n",
      "25.959601824269935 [ 0.00020078  0.00352086 -0.00502021  0.0017747 ]\n",
      "0.51\n",
      "0.51\n",
      "25.834054960255436 [-1.01133833e-05  3.81073710e-03 -5.02002146e-03  1.83781534e-03]\n",
      "0.53\n",
      "0.53\n",
      "25.90166501427251 [ 5.55863827e-05  3.54605148e-03 -5.01000423e-03  1.79855023e-03]\n",
      "0.53\n",
      "0.53\n",
      "28.409009905941055 [ 0.00012985  0.00332396 -0.005014    0.00056618]\n",
      "0.51\n",
      "0.51\n",
      "26.458277400017874 [ 0.00022968  0.0037876  -0.0050198   0.00150636]\n",
      "0.51\n",
      "0.51\n",
      "27.505863975924473 [-7.31019984e-05  3.51240276e-03 -5.02050047e-03  1.03311687e-03]\n",
      "0.51\n",
      "0.51\n"
     ]
    }
   ],
   "source": [
    "# evaluating using different seeds\n",
    "accuracy = [0]\n",
    "for i in [0, 1, 2, 3, 4, 5, 6, 7, 8, 9]:\n",
    "    idx = np.arange(n)\n",
    "    np.random.seed(i)\n",
    "    np.random.shuffle(idx)\n",
    "    df_train = df1.iloc[idx[:n_train]]\n",
    "    df_val = df1.iloc[idx[n_train:n_train + n_val]]\n",
    "    df_test = df1.iloc[idx[n_train + n_val:]]\n",
    "    df_train = df_train.reset_index(drop=True)\n",
    "    df_val = df_val.reset_index(drop=True)\n",
    "    df_test = df_test.reset_index(drop=True)\n",
    "    y_train = df_train.fuel_efficiency_mpg.values\n",
    "    y_val = df_val.fuel_efficiency_mpg.values\n",
    "    y_test = df_test.fuel_efficiency_mpg.values\n",
    "    del df_train['fuel_efficiency_mpg']\n",
    "    del df_val['fuel_efficiency_mpg']\n",
    "    del df_test['fuel_efficiency_mpg']\n",
    "    X_train = df_train.fillna(0).values\n",
    "    X_val = df_val.fillna(0).values\n",
    "    X_test = df_test.fillna(0).values\n",
    "    w0, w = train_linear_regression(X_train, y_train)\n",
    "    y_pred = w0 + X_val.dot(w)\n",
    "    accuracy = rmse(y_val, y_pred)\n",
    "    print(accuracy)"
   ]
  },
  {
   "cell_type": "code",
   "execution_count": 29,
   "id": "0528f356-8266-49f7-88b9-13c60e5a7c1d",
   "metadata": {},
   "outputs": [
    {
     "name": "stdout",
     "output_type": "stream",
     "text": [
      "0.0\n"
     ]
    }
   ],
   "source": [
    "result = round(np.std(accuracy), 3)\n",
    "print(result)"
   ]
  },
  {
   "cell_type": "code",
   "execution_count": 30,
   "id": "dd5cff1e-d0d5-4427-b798-bbd3dc360ce4",
   "metadata": {},
   "outputs": [
    {
     "name": "stdout",
     "output_type": "stream",
     "text": [
      "0.0\n"
     ]
    }
   ],
   "source": [
    "print(np.std(accuracy))"
   ]
  },
  {
   "cell_type": "code",
   "execution_count": null,
   "id": "cfb9de4b-6dd2-49dd-ac3f-0e375ca3062d",
   "metadata": {},
   "outputs": [],
   "source": []
  }
 ],
 "metadata": {
  "kernelspec": {
   "display_name": "Python (zoomcamp)",
   "language": "python",
   "name": "zoomcamp"
  },
  "language_info": {
   "codemirror_mode": {
    "name": "ipython",
    "version": 3
   },
   "file_extension": ".py",
   "mimetype": "text/x-python",
   "name": "python",
   "nbconvert_exporter": "python",
   "pygments_lexer": "ipython3",
   "version": "3.12.1"
  }
 },
 "nbformat": 4,
 "nbformat_minor": 5
}
